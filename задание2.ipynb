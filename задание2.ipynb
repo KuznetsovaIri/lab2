{
  "nbformat": 4,
  "nbformat_minor": 0,
  "metadata": {
    "colab": {
      "name": "задание2.ipynb",
      "provenance": []
    },
    "kernelspec": {
      "name": "python3",
      "display_name": "Python 3"
    },
    "language_info": {
      "name": "python"
    }
  },
  "cells": [
    {
      "cell_type": "code",
      "metadata": {
        "id": "EqTaZEGrvf36"
      },
      "source": [
        "import pandas as pd\n",
        "import numpy as np\n",
        "import matplotlib.pyplot as plt\n",
        "\n",
        "data_url = 'https://raw.githubusercontent.com/julia-komleva/ml-course-2021/main/data/2.csv'\n",
        "df = pd.read_csv(data_url, encoding='cp1251')\n",
        "df = df.drop(columns=['Модель', 'Цвет'])\n",
        "df.head()\n",
        "\n",
        "import seaborn as sns\n",
        "from sklearn.preprocessing import StandardScaler, OneHotEncoder, LabelEncoder\n",
        "from sklearn.cluster import KMeans\n",
        "from sklearn.compose import ColumnTransformer\n",
        "from sklearn.pipeline import Pipeline"
      ],
      "execution_count": 1,
      "outputs": []
    },
    {
      "cell_type": "code",
      "metadata": {
        "colab": {
          "base_uri": "https://localhost:8080/"
        },
        "id": "LTHpbZQBvwUj",
        "outputId": "2518d95d-a213-4cf1-fb62-eb11c403d57f"
      },
      "source": [
        "df[\"Марка\"].value_counts()"
      ],
      "execution_count": 2,
      "outputs": [
        {
          "output_type": "execute_result",
          "data": {
            "text/plain": [
              "ВАЗ           5497\n",
              "Toyota        2700\n",
              "Nissan        2064\n",
              "Hyundai       1897\n",
              "Volkswagen    1885\n",
              "              ... \n",
              "Scion            1\n",
              "ВИС              1\n",
              "Oldsmobile       1\n",
              "Samand           1\n",
              "Tianma           1\n",
              "Name: Марка, Length: 92, dtype: int64"
            ]
          },
          "metadata": {},
          "execution_count": 2
        }
      ]
    },
    {
      "cell_type": "code",
      "metadata": {
        "colab": {
          "base_uri": "https://localhost:8080/"
        },
        "id": "GB6Qcj5yv6d7",
        "outputId": "eea23600-3ff9-4cda-e8a5-1b7df70ec807"
      },
      "source": [
        "for col in df.columns:\n",
        "  print(f\"{col}: {df[col].nunique()}\")"
      ],
      "execution_count": 3,
      "outputs": [
        {
          "output_type": "stream",
          "name": "stdout",
          "text": [
            "Марка: 92\n",
            "Год: 28\n",
            "Состояние: 1\n",
            "Пробег: 3443\n",
            "Объем: 45\n",
            "Топливо: 5\n",
            "Мощность: 303\n",
            "Кузов: 11\n",
            "Привод: 3\n",
            "КПП: 4\n",
            "Руль: 2\n",
            "Хозяев в ПТС: 3\n",
            "Цена: 1577\n"
          ]
        }
      ]
    },
    {
      "cell_type": "code",
      "metadata": {
        "id": "9mRufaktv7wk"
      },
      "source": [
        "df.drop(\"Состояние\", axis=1, inplace=True)"
      ],
      "execution_count": 4,
      "outputs": []
    },
    {
      "cell_type": "code",
      "metadata": {
        "colab": {
          "base_uri": "https://localhost:8080/"
        },
        "id": "-F_j0KTDv_0Y",
        "outputId": "b3f670a7-8278-4462-f917-88e0a8aa5faf"
      },
      "source": [
        "df.info()"
      ],
      "execution_count": 5,
      "outputs": [
        {
          "output_type": "stream",
          "name": "stdout",
          "text": [
            "<class 'pandas.core.frame.DataFrame'>\n",
            "Int64Index: 35019 entries, 0 to 61065\n",
            "Data columns (total 12 columns):\n",
            " #   Column        Non-Null Count  Dtype  \n",
            "---  ------        --------------  -----  \n",
            " 0   Марка         35019 non-null  object \n",
            " 1   Год           35019 non-null  float64\n",
            " 2   Пробег        35019 non-null  float64\n",
            " 3   Объем         35019 non-null  float64\n",
            " 4   Топливо       35019 non-null  object \n",
            " 5   Мощность      35019 non-null  float64\n",
            " 6   Кузов         35019 non-null  object \n",
            " 7   Привод        35019 non-null  object \n",
            " 8   КПП           35019 non-null  object \n",
            " 9   Руль          35019 non-null  object \n",
            " 10  Хозяев в ПТС  35019 non-null  object \n",
            " 11  Цена          35019 non-null  float64\n",
            "dtypes: float64(5), object(7)\n",
            "memory usage: 3.5+ MB\n"
          ]
        }
      ]
    }
  ]
}